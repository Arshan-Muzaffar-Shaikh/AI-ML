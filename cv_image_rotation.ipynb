{
 "cells": [
  {
   "cell_type": "code",
   "execution_count": 2,
   "id": "e2e9b2ad-e5ba-4da3-9f93-b66a5a639b5a",
   "metadata": {},
   "outputs": [
    {
     "name": "stdout",
     "output_type": "stream",
     "text": [
      "Collecting opencv-python\n",
      "  Using cached opencv_python-4.12.0.88-cp37-abi3-win_amd64.whl.metadata (19 kB)\n",
      "Requirement already satisfied: numpy<2.3.0,>=2 in c:\\users\\arshan\\anaconda3\\lib\\site-packages (from opencv-python) (2.2.6)\n",
      "Using cached opencv_python-4.12.0.88-cp37-abi3-win_amd64.whl (39.0 MB)\n",
      "Installing collected packages: opencv-python\n",
      "Successfully installed opencv-python-4.12.0.88\n"
     ]
    }
   ],
   "source": [
    "import sys\n",
    "!{sys.executable} -m pip install opencv-python\n",
    "\n",
    "\n"
   ]
  },
  {
   "cell_type": "code",
   "execution_count": 1,
   "id": "c564c616-52d6-4af0-a6a6-7a05354f1826",
   "metadata": {},
   "outputs": [
    {
     "data": {
      "text/plain": [
       "-1"
      ]
     },
     "execution_count": 1,
     "metadata": {},
     "output_type": "execute_result"
    }
   ],
   "source": [
    "#IMAGE ROTATION\n",
    "import cv2\n",
    "img = cv2.imread(r'C:\\Users\\ARSHAN\\OneDrive\\Desktop\\bmwcar.jpeg')\n",
    "\n",
    "img_scaled=cv2.resize(img, None, fx= 1.2, fy=1.2, interpolation =cv2.INTER_LINEAR)\n",
    "cv2.imshow('Scaling- Linear Interpolation',img_scaled)\n",
    "#fx=1.2, fy=1.2: Scale the image by 1.2 times in x and y directions.\n",
    "#INTER_LINEAR: Default interpolation method, good for zooming.\n",
    "#cv2.imshow: Displays the scaled image in a new window.\n",
    "\n",
    "\n",
    "img_scaled=cv2.resize(img, None, fx= 1.2, fy=1.2, interpolation =cv2.INTER_CUBIC)\n",
    "cv2.imshow('Scaling- Cubic Interpolation',img_scaled)\n",
    "#INTER_CUBIC: Uses 4x4 pixel neighborhood, gives smoother results, but slower.\n",
    "#Ideal for zooming (enlarging) images with better visual quality.\n",
    "\n",
    "\n",
    "img_scaled=cv2.resize(img,(450,400), interpolation=cv2.INTER_AREA)\n",
    "cv2.imshow('Scaling-Skewed Size', img_scaled)\n",
    "#Resizes image to 450x400 pixels, regardless of original aspect ratio.\n",
    "#INTER_AREA: Best for shrinking images, as it resamples using pixel area relation — preserves more image details.\n",
    "\n",
    "\n",
    "cv2.waitKey()\n",
    "#Waits indefinitely for any key press before closing the image windows.\n",
    "#If you want it to wait for just 5 seconds, use cv2.waitKey(5000) (time in milliseconds)."
   ]
  },
  {
   "cell_type": "code",
   "execution_count": 13,
   "id": "b2fc8f0c-73f6-472f-85b0-68a449c2d621",
   "metadata": {},
   "outputs": [
    {
     "data": {
      "text/plain": [
       "-1"
      ]
     },
     "execution_count": 13,
     "metadata": {},
     "output_type": "execute_result"
    }
   ],
   "source": [
    "#IMAGE TRANSFORMATION\n",
    "import cv2\n",
    "import numpy as np \n",
    "img = cv2.imread(r'C:\\Users\\ARSHAN\\OneDrive\\Desktop\\bmwcar.jpeg')\n",
    "\n",
    "rows, cols= img.shape[:2]\n",
    "\n",
    "src_points = np.float32([\n",
    "    [0, 0],\n",
    "    [cols - 1, 0],\n",
    "    [0, rows - 1]\n",
    "])\n",
    "dst_points= np.float32([\n",
    "    [0, 0],\n",
    "    [int(0.6 * (cols - 1)), 0],\n",
    "    [int(0.4 * (cols - 1)), rows - 1]\n",
    "])\n",
    "\n",
    "#Affine matrix\n",
    "\n",
    "affine_matrix = cv2.getAffineTransform(src_points, dst_points)\n",
    "img_output= cv2.warpAffine(img, affine_matrix, (cols,rows))\n",
    "cv2.imshow('Input',img)\n",
    "cv2.imshow('Output',img_output)\n",
    "cv2.waitKey()\n"
   ]
  },
  {
   "cell_type": "code",
   "execution_count": null,
   "id": "d9bc2c7f-f0d3-48a0-a26e-2f53522b5bc6",
   "metadata": {},
   "outputs": [],
   "source": []
  }
 ],
 "metadata": {
  "kernelspec": {
   "display_name": "Python 3 (ipykernel)",
   "language": "python",
   "name": "python3"
  },
  "language_info": {
   "codemirror_mode": {
    "name": "ipython",
    "version": 3
   },
   "file_extension": ".py",
   "mimetype": "text/x-python",
   "name": "python",
   "nbconvert_exporter": "python",
   "pygments_lexer": "ipython3",
   "version": "3.11.7"
  }
 },
 "nbformat": 4,
 "nbformat_minor": 5
}
