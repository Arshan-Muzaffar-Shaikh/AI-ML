{
 "cells": [
  {
   "cell_type": "code",
   "execution_count": null,
   "id": "4028e794-ae74-4816-9f15-c3333a246efe",
   "metadata": {},
   "outputs": [],
   "source": [
    "Implement Minimum Edit Distance Algorithm"
   ]
  },
  {
   "cell_type": "code",
   "execution_count": 1,
   "id": "ca63105d-e948-4fd3-9318-a2a9e62a2a19",
   "metadata": {},
   "outputs": [],
   "source": [
    "def min_edit_distance(source, target):\n",
    "    n, m = len(source), len(target)\n",
    "\n",
    "    # Initialize DP table\n",
    "    dp = [[0 for _ in range(m+1)] for _ in range(n+1)]\n",
    "\n",
    "    # Base cases: transforming empty string\n",
    "    for i in range(n+1):\n",
    "        dp[i][0] = i   # deletions\n",
    "    for j in range(m+1):\n",
    "        dp[0][j] = j   # insertions\n",
    "\n",
    "    # Fill DP table\n",
    "    for i in range(1, n+1):\n",
    "        for j in range(1, m+1):\n",
    "            if source[i-1] == target[j-1]:\n",
    "                dp[i][j] = dp[i-1][j-1]   # no cost if same\n",
    "            else:\n",
    "                dp[i][j] = 1 + min(\n",
    "                    dp[i-1][j],    # deletion\n",
    "                    dp[i][j-1],    # insertion\n",
    "                    dp[i-1][j-1]   # substitution\n",
    "                )\n",
    "\n",
    "    return dp[n][m], dp\n"
   ]
  },
  {
   "cell_type": "code",
   "execution_count": 2,
   "id": "5e53c5cd-447c-4114-a6db-a6d5179ae857",
   "metadata": {},
   "outputs": [
    {
     "name": "stdout",
     "output_type": "stream",
     "text": [
      "Source: reading\n",
      "Target: writing\n",
      "Minimum Edit Distance: 4\n"
     ]
    }
   ],
   "source": [
    "source = \"reading\"\n",
    "target = \"writing\"\n",
    "\n",
    "distance, dp_table = min_edit_distance(source, target)\n",
    "\n",
    "print(\"Source:\", source)\n",
    "print(\"Target:\", target)\n",
    "print(\"Minimum Edit Distance:\", distance)\n"
   ]
  },
  {
   "cell_type": "code",
   "execution_count": null,
   "id": "deaa06b4-ea91-4207-bf58-2b63075aa192",
   "metadata": {},
   "outputs": [],
   "source": [
    "Post Lab Questions: \n",
    "Q1. Find out the number of operations required to convert the string “reading\" into \"writing\" using the minimum edit distance algorithm. "
   ]
  },
  {
   "cell_type": "code",
   "execution_count": null,
   "id": "a5234304-0a2b-4ef8-920a-45cf71a901e8",
   "metadata": {},
   "outputs": [],
   "source": [
    "Step 1: Compare strings\n",
    "\n",
    "reading\n",
    "\n",
    "writing\n",
    "\n",
    "Step 2: Align characters\n",
    "Source\tTarget\tOperation\n",
    "r\tw\tSubstitution (r → w)\n",
    "e\tr\tSubstitution (e → r)\n",
    "a\ti\tSubstitution (a → i)\n",
    "d\tt\t Same\n",
    "i\ti\t Same\n",
    "n\tn\t Same\n",
    "g\tg\t Same\n",
    "Step 3: Count operations\n",
    "\n",
    "Substitution 1: r → w\n",
    "\n",
    "Substitution 2: e → r\n",
    "\n",
    "Substitution 3: a → i\n",
    "\n",
    "Total operations = 3\n",
    "\n",
    "Final Answer\n",
    "\n",
    "The minimum edit distance between “reading” and “writing” is:\n",
    "\n",
    "3 operations (all substitutions)\n",
    "3 operations (all substitutions)"
   ]
  }
 ],
 "metadata": {
  "kernelspec": {
   "display_name": "Python 3 (ipykernel)",
   "language": "python",
   "name": "python3"
  },
  "language_info": {
   "codemirror_mode": {
    "name": "ipython",
    "version": 3
   },
   "file_extension": ".py",
   "mimetype": "text/x-python",
   "name": "python",
   "nbconvert_exporter": "python",
   "pygments_lexer": "ipython3",
   "version": "3.11.7"
  }
 },
 "nbformat": 4,
 "nbformat_minor": 5
}
