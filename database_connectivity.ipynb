{
 "cells": [
  {
   "cell_type": "code",
   "execution_count": null,
   "id": "491439cc-605b-4fb3-a042-b744ec3380f6",
   "metadata": {},
   "outputs": [],
   "source": [
    "Python database connectivity : SQLite3 is a database which can be integrated with python using the \n",
    "dqlite3 module that provides an SQL  interface and is available in python version 2.5 and above\n",
    "by deafault \n",
    "\n",
    "\n",
    "sqlie3 module routines"
   ]
  },
  {
   "cell_type": "code",
   "execution_count": 8,
   "id": "7793c37a-96d6-412a-81b6-b8b147254373",
   "metadata": {},
   "outputs": [
    {
     "name": "stdout",
     "output_type": "stream",
     "text": [
      "AAJ to b'day  hai!!!\n",
      "Internal- Ghar main party ghar wale se\n"
     ]
    }
   ],
   "source": [
    "run crazy.py"
   ]
  },
  {
   "cell_type": "code",
   "execution_count": 7,
   "id": "ffcc2bc5-78b3-4613-98db-6ea8fb91e269",
   "metadata": {},
   "outputs": [
    {
     "name": "stdout",
     "output_type": "stream",
     "text": [
      "AAJ to b'day  hai!!!\n",
      "External- mujhe party deni padegi\n"
     ]
    }
   ],
   "source": [
    "import crazy"
   ]
  },
  {
   "cell_type": "code",
   "execution_count": null,
   "id": "35b8206f-b323-4a8f-a847-8348a9dc352c",
   "metadata": {},
   "outputs": [],
   "source": [
    "Python database connectivity : SQLite3 is a database which can be integrated with python using the \n",
    "dqlite3 module that provides an SQL  interface and is available in python version 2.5 and above\n",
    "by deafault \n",
    "\n",
    "\n",
    "sqlie3 module routines\n",
    "\n",
    "1. sqlite3.connect(database [,timeout, other_args]) - default timeout is 5 sec\n",
    "2. connection.cursor([cursorClass])\n",
    "3. cursor.execuete(sql[,optional parameters])\n",
    "4. connection.execute(sql,[,optional parameters]) - shortcut to the above method \n",
    "5. cursor.executemany(sql,seq_of_parameters) -\n",
    "6. connection.executemany(sql, seq_of_parameters)\n",
    "7. cursor.executescript(sql_script)\n",
    "8. connection."
   ]
  },
  {
   "cell_type": "code",
   "execution_count": 9,
   "id": "3016bea1-3557-467f-8b62-6885e24d37e2",
   "metadata": {},
   "outputs": [
    {
     "name": "stdout",
     "output_type": "stream",
     "text": [
      "Oppened Databse Successfully\n"
     ]
    }
   ],
   "source": [
    "#Connecting to database\n",
    "import sqlite3\n",
    "conn= sqlite3.connect(\"test.db\")\n",
    "print(\"Oppened Databse Successfully\")"
   ]
  },
  {
   "cell_type": "code",
   "execution_count": 12,
   "id": "7d299a13-b024-4349-a45c-bbfaa570e19c",
   "metadata": {},
   "outputs": [
    {
     "name": "stdout",
     "output_type": "stream",
     "text": [
      "Oppened Databse Successfully\n",
      "Table created successfully\n"
     ]
    }
   ],
   "source": [
    "#Create Table\n",
    "import sqlite3\n",
    "conn= sqlite3.connect(\"test1.db\")\n",
    "print(\"Oppened Databse Successfully\")\n",
    "conn.execute(\"\"\"create table company\n",
    "             (id int primary key not null,\n",
    "              name text not null,\n",
    "              age int not null,\n",
    "              address char(50),\n",
    "              salary real)\"\"\")\n",
    "print(\"Table created successfully\")\n",
    "conn.close()"
   ]
  },
  {
   "cell_type": "code",
   "execution_count": 13,
   "id": "83d47498-b782-4973-8239-1d511aa1f31f",
   "metadata": {},
   "outputs": [
    {
     "name": "stdout",
     "output_type": "stream",
     "text": [
      "Oppened Databse Successfully\n",
      "Records succesfully inserted\n"
     ]
    }
   ],
   "source": [
    "#Insert values in table\n",
    "import sqlite3\n",
    "conn= sqlite3.connect(\"test1.db\")\n",
    "print(\"Oppened Databse Successfully\")\n",
    "conn.execute(\"\"\"insert into company (id, name, age, address, salary)\n",
    "                values(101, 'Sonu', 21, 'NIBM', 25000)\"\"\")\n",
    "conn.execute(\"\"\"insert into company (id, name, age, address, salary)\n",
    "                values(102, 'Monu', 22, 'PUNE', 35000)\"\"\")\n",
    "conn.execute(\"\"\"insert into company (id, name, age, address, salary)\n",
    "                values(103, 'Golu', 18, 'GHAR', 28000)\"\"\")\n",
    "conn.execute(\"\"\"insert into company (id, name, age, address, salary)\n",
    "                values(104, 'Molu', 20, 'Bihar', 32000)\"\"\")\n",
    "conn.commit()\n",
    "\n",
    "print(\"Records succesfully inserted\")\n",
    "conn.close()"
   ]
  },
  {
   "cell_type": "code",
   "execution_count": 16,
   "id": "c94d717e-7156-49c1-9fc7-d307609347db",
   "metadata": {},
   "outputs": [
    {
     "name": "stdout",
     "output_type": "stream",
     "text": [
      "Oppened Databse Successfully\n",
      "id => 101\n",
      "name => Sonu\n",
      "age => 21\n",
      "address=> NIBM\n",
      "salary=> 25000.0\n",
      "(101, 'Sonu', 21, 'NIBM', 25000.0)\n",
      "\n",
      "id => 102\n",
      "name => Monu\n",
      "age => 22\n",
      "address=> PUNE\n",
      "salary=> 35000.0\n",
      "(102, 'Monu', 22, 'PUNE', 35000.0)\n",
      "\n",
      "id => 103\n",
      "name => Golu\n",
      "age => 18\n",
      "address=> GHAR\n",
      "salary=> 28000.0\n",
      "(103, 'Golu', 18, 'GHAR', 28000.0)\n",
      "\n",
      "id => 104\n",
      "name => Molu\n",
      "age => 20\n",
      "address=> Bihar\n",
      "salary=> 32000.0\n",
      "(104, 'Molu', 20, 'Bihar', 32000.0)\n",
      "\n",
      "Records succesfully inserted\n"
     ]
    }
   ],
   "source": [
    "#Print values using the SELECT clause\n",
    "import sqlite3\n",
    "conn= sqlite3.connect(\"test1.db\")\n",
    "print(\"Oppened Databse Successfully\")\n",
    "\n",
    "cursor= conn.execute(\"select id, name, age, address , salary from company\")\n",
    "for i in cursor:\n",
    "    print(f'id => {i[0]}')\n",
    "    print(f'name => {i[1]}')\n",
    "    print(f'age => {i[2]}')\n",
    "    print(f'address=> {i[3]}')\n",
    "    print(f'salary=> {i[4]}')\n",
    "    print(i)\n",
    "    print()\n",
    "\n",
    "print(\"Records succesfully inserted\")\n",
    "conn.close()"
   ]
  },
  {
   "cell_type": "code",
   "execution_count": null,
   "id": "714b1c08-57b4-4573-a75e-4ad262f72dec",
   "metadata": {},
   "outputs": [],
   "source": []
  },
  {
   "cell_type": "code",
   "execution_count": null,
   "id": "5a8a4c54-d5ec-4768-bd9d-e307a8bb2b33",
   "metadata": {},
   "outputs": [],
   "source": []
  },
  {
   "cell_type": "code",
   "execution_count": null,
   "id": "669412b2-fa7d-4474-9fe0-38554486ec2a",
   "metadata": {},
   "outputs": [],
   "source": []
  },
  {
   "cell_type": "code",
   "execution_count": null,
   "id": "9a54855f-f727-47de-bbf3-459b7c352857",
   "metadata": {},
   "outputs": [],
   "source": []
  },
  {
   "cell_type": "code",
   "execution_count": null,
   "id": "7ff3f4ea-9ded-449f-a135-6f6897b0a5f6",
   "metadata": {},
   "outputs": [],
   "source": []
  },
  {
   "cell_type": "code",
   "execution_count": null,
   "id": "ba1ec54f-d0ac-4e03-a1f7-c1b5f85c92e1",
   "metadata": {},
   "outputs": [],
   "source": []
  },
  {
   "cell_type": "code",
   "execution_count": null,
   "id": "d6e5de35-c1da-4ec3-b3f9-8e349c7f5a7c",
   "metadata": {},
   "outputs": [],
   "source": []
  },
  {
   "cell_type": "code",
   "execution_count": null,
   "id": "3239fa32-8c45-4308-9369-d5a28fb946e8",
   "metadata": {},
   "outputs": [],
   "source": []
  },
  {
   "cell_type": "code",
   "execution_count": null,
   "id": "5fa10729-54f8-4c97-aed9-88ae15a4a55e",
   "metadata": {},
   "outputs": [],
   "source": []
  },
  {
   "cell_type": "code",
   "execution_count": null,
   "id": "92baf9e4-adc1-4519-9c44-96073cf8416d",
   "metadata": {},
   "outputs": [],
   "source": []
  }
 ],
 "metadata": {
  "kernelspec": {
   "display_name": "Python 3 (ipykernel)",
   "language": "python",
   "name": "python3"
  },
  "language_info": {
   "codemirror_mode": {
    "name": "ipython",
    "version": 3
   },
   "file_extension": ".py",
   "mimetype": "text/x-python",
   "name": "python",
   "nbconvert_exporter": "python",
   "pygments_lexer": "ipython3",
   "version": "3.11.7"
  }
 },
 "nbformat": 4,
 "nbformat_minor": 5
}
