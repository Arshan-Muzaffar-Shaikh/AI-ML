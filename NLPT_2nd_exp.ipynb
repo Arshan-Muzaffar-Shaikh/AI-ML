{
 "cells": [
  {
   "cell_type": "code",
   "execution_count": null,
   "id": "1f17a8cd-9bd4-493e-903b-5608f7922261",
   "metadata": {},
   "outputs": [],
   "source": [
    " Implement Bag of Words "
   ]
  },
  {
   "cell_type": "code",
   "execution_count": 1,
   "id": "b79ce031-d8e9-4a82-ba6d-fba08c1ceb2d",
   "metadata": {},
   "outputs": [
    {
     "name": "stdout",
     "output_type": "stream",
     "text": [
      "Bag of Words representation:\n",
      "Counter({'arshan': 1, 'completed': 1, 'sppu': 1, 'age': 1, 'like': 1, 'travel': 1, 'hobbies': 1, 'swimming': 1, 'playing': 1, 'cricket': 1, 'reading': 1, 'books': 1, 'exploring': 1, 'new': 1, 'cuisines': 1})\n"
     ]
    }
   ],
   "source": [
    "import re\n",
    "from nltk.tokenize import word_tokenize\n",
    "from nltk.corpus import stopwords\n",
    "import nltk\n",
    "from collections import Counter\n",
    "\n",
    "nltk.download('punkt', quiet=True)\n",
    "nltk.download('stopwords', quiet=True)\n",
    "\n",
    "# Sample text\n",
    "text = \"\"\"\n",
    "I am Arshan, I have completed BE from SPPU; my age is 22.  \n",
    "I like to travel, and my hobbies are swimming, playing cricket, reading books  \n",
    "and exploring new cuisines.  \n",
    "\"\"\"\n",
    "\n",
    "# Preprocessing: lowercase + remove extra spaces\n",
    "text = re.sub(r'\\s+', ' ', text.strip()).lower()\n",
    "\n",
    "# Tokenize\n",
    "tokens = word_tokenize(text)\n",
    "\n",
    "# Remove stopwords and punctuation\n",
    "stop_words = set(stopwords.words('english'))\n",
    "tokens = [w for w in tokens if w.isalpha() and w not in stop_words]\n",
    "\n",
    "# Create Bag of Words (word frequencies)\n",
    "bow = Counter(tokens)\n",
    "\n",
    "print(\"Bag of Words representation:\")\n",
    "print(bow)\n"
   ]
  },
  {
   "cell_type": "code",
   "execution_count": null,
   "id": "b5e979f3-04bd-4026-99ea-aef33efeae33",
   "metadata": {},
   "outputs": [],
   "source": []
  }
 ],
 "metadata": {
  "kernelspec": {
   "display_name": "Python 3 (ipykernel)",
   "language": "python",
   "name": "python3"
  },
  "language_info": {
   "codemirror_mode": {
    "name": "ipython",
    "version": 3
   },
   "file_extension": ".py",
   "mimetype": "text/x-python",
   "name": "python",
   "nbconvert_exporter": "python",
   "pygments_lexer": "ipython3",
   "version": "3.11.7"
  }
 },
 "nbformat": 4,
 "nbformat_minor": 5
}
