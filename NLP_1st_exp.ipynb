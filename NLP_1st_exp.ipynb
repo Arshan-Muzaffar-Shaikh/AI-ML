{
 "cells": [
  {
   "cell_type": "code",
   "execution_count": null,
   "id": "8524eaab-ab03-4ed8-97f2-d832dbef36fc",
   "metadata": {},
   "outputs": [],
   "source": [
    "#1.Trim the unwanted spaces that occur at the beginning and at the end of the sentences. "
   ]
  },
  {
   "cell_type": "code",
   "execution_count": 4,
   "id": "658d7720-5532-424a-b3eb-bb2f7bb5e3b5",
   "metadata": {},
   "outputs": [
    {
     "name": "stdout",
     "output_type": "stream",
     "text": [
      "Original Text:\n",
      "'\\n   I   am  Arshan,  I  have completed BE from   SPPU; my   age is 22.  \\n   I like  to travel, and   my  hobbies are swimming,   playing cricket, reading books   \\n   and   exploring new cuisines.  \\n   Currently,   I am working as a junior   software developer in   Pune,   \\n   and I aspire to start my own tech company someday.    \\n   In my free time,  I   enjoy watching documentaries,   learning new programming languages,  \\n   \\tand volunteering for environmental   causes.   \\n'\n",
      "\n",
      "Cleaned Sentences:\n",
      "- I am Arshan, I have completed BE from SPPU; my age is 22.\n",
      "- I like to travel, and my hobbies are swimming, playing cricket, reading books and exploring new cuisines.\n",
      "- Currently, I am working as a junior software developer in Pune, and I aspire to start my own tech company someday.\n",
      "- In my free time, I enjoy watching documentaries, learning new programming languages, and volunteering for environmental causes.\n",
      "\n",
      "Final Clean Text:\n",
      "'I am Arshan, I have completed BE from SPPU; my age is 22. I like to travel, and my hobbies are swimming, playing cricket, reading books and exploring new cuisines. Currently, I am working as a junior software developer in Pune, and I aspire to start my own tech company someday. In my free time, I enjoy watching documentaries, learning new programming languages, and volunteering for environmental causes.'\n"
     ]
    },
    {
     "name": "stderr",
     "output_type": "stream",
     "text": [
      "[nltk_data] Downloading package punkt to\n",
      "[nltk_data]     C:\\Users\\ARSHAN\\AppData\\Roaming\\nltk_data...\n",
      "[nltk_data]   Package punkt is already up-to-date!\n"
     ]
    }
   ],
   "source": [
    "import nltk\n",
    "from nltk.tokenize import sent_tokenize, word_tokenize\n",
    "import re\n",
    "\n",
    "nltk.download('punkt')\n",
    "\n",
    "text = \"\"\"\n",
    "   I   am  Arshan,  I  have completed BE from   SPPU; my   age is 22.  \n",
    "   I like  to travel, and   my  hobbies are swimming,   playing cricket, reading books   \n",
    "   and   exploring new cuisines.  \n",
    "   Currently,   I am working as a junior   software developer in   Pune,   \n",
    "   and I aspire to start my own tech company someday.    \n",
    "   In my free time,  I   enjoy watching documentaries,   learning new programming languages,  \n",
    "   \\tand volunteering for environmental   causes.   \n",
    "\"\"\"\n",
    "\n",
    "print(\"Original Text:\")\n",
    "print(repr(text))\n",
    "\n",
    "sentences = sent_tokenize(text)\n",
    "\n",
    "clean_sentences = []\n",
    "for sentence in sentences:\n",
    "    sentence = sentence.strip()\n",
    "    sentence = re.sub(r'\\s+', ' ', sentence)\n",
    "    clean_sentences.append(sentence)\n",
    "\n",
    "clean_text = \" \".join(clean_sentences)\n",
    "\n",
    "print(\"\\nCleaned Sentences:\")\n",
    "for s in clean_sentences:\n",
    "    print(f\"- {s}\")\n",
    "\n",
    "print(\"\\nFinal Clean Text:\")\n",
    "print(repr(clean_text))\n"
   ]
  },
  {
   "cell_type": "code",
   "execution_count": null,
   "id": "34d50823-ad45-45c2-83d3-13c10d7b873f",
   "metadata": {},
   "outputs": [],
   "source": [
    "#2.Convert the text into lower case or upper case.\n"
   ]
  },
  {
   "cell_type": "code",
   "execution_count": 5,
   "id": "bedb6a58-528a-441b-9645-8e49f07ffe56",
   "metadata": {},
   "outputs": [
    {
     "name": "stdout",
     "output_type": "stream",
     "text": [
      "Original Text:\n",
      "'\\n   I   am  Arshan,  I  have completed BE from   SPPU; my   age is 22.  \\n   I like  to travel, and   my  hobbies are swimming,   playing cricket, reading books   \\n   and   exploring new cuisines.  \\n   Currently,   I am working as a junior   software developer in   Pune,   \\n   and I aspire to start my own tech company someday.    \\n   In my free time,  I   enjoy watching documentaries,   learning new programming languages,  \\n   \\tand volunteering for environmental   causes.   \\n'\n",
      "\n",
      "Lower Case Text:\n",
      "i am arshan, i have completed be from sppu; my age is 22. i like to travel, and my hobbies are swimming, playing cricket, reading books and exploring new cuisines. currently, i am working as a junior software developer in pune, and i aspire to start my own tech company someday. in my free time, i enjoy watching documentaries, learning new programming languages, and volunteering for environmental causes.\n",
      "\n",
      "Upper Case Text:\n",
      "I AM ARSHAN, I HAVE COMPLETED BE FROM SPPU; MY AGE IS 22. I LIKE TO TRAVEL, AND MY HOBBIES ARE SWIMMING, PLAYING CRICKET, READING BOOKS AND EXPLORING NEW CUISINES. CURRENTLY, I AM WORKING AS A JUNIOR SOFTWARE DEVELOPER IN PUNE, AND I ASPIRE TO START MY OWN TECH COMPANY SOMEDAY. IN MY FREE TIME, I ENJOY WATCHING DOCUMENTARIES, LEARNING NEW PROGRAMMING LANGUAGES, AND VOLUNTEERING FOR ENVIRONMENTAL CAUSES.\n"
     ]
    },
    {
     "name": "stderr",
     "output_type": "stream",
     "text": [
      "[nltk_data] Downloading package punkt to\n",
      "[nltk_data]     C:\\Users\\ARSHAN\\AppData\\Roaming\\nltk_data...\n",
      "[nltk_data]   Package punkt is already up-to-date!\n"
     ]
    }
   ],
   "source": [
    "import nltk\n",
    "from nltk.tokenize import sent_tokenize, word_tokenize\n",
    "import re\n",
    "\n",
    "nltk.download('punkt')\n",
    "\n",
    "text = \"\"\"\n",
    "   I   am  Arshan,  I  have completed BE from   SPPU; my   age is 22.  \n",
    "   I like  to travel, and   my  hobbies are swimming,   playing cricket, reading books   \n",
    "   and   exploring new cuisines.  \n",
    "   Currently,   I am working as a junior   software developer in   Pune,   \n",
    "   and I aspire to start my own tech company someday.    \n",
    "   In my free time,  I   enjoy watching documentaries,   learning new programming languages,  \n",
    "   \\tand volunteering for environmental   causes.   \n",
    "\"\"\"\n",
    "\n",
    "print(\"Original Text:\")\n",
    "print(repr(text))\n",
    "\n",
    "sentences = sent_tokenize(text)\n",
    "\n",
    "clean_sentences = []\n",
    "for sentence in sentences:\n",
    "    sentence = sentence.strip()\n",
    "    sentence = re.sub(r'\\s+', ' ', sentence)\n",
    "    clean_sentences.append(sentence)\n",
    "\n",
    "clean_text = \" \".join(clean_sentences)\n",
    "\n",
    "lower_case_text = clean_text.lower()\n",
    "upper_case_text = clean_text.upper()\n",
    "\n",
    "print(\"\\nLower Case Text:\")\n",
    "print(lower_case_text)\n",
    "\n",
    "print(\"\\nUpper Case Text:\")\n",
    "print(upper_case_text)\n"
   ]
  },
  {
   "cell_type": "code",
   "execution_count": null,
   "id": "42a6c421-a986-4373-b750-81f3bdba4b77",
   "metadata": {},
   "outputs": [],
   "source": [
    "#3. Tokenize the text and determine its vocabulary. "
   ]
  },
  {
   "cell_type": "code",
   "execution_count": 7,
   "id": "af3ec343-f96b-4e47-956f-6305b0d244d7",
   "metadata": {},
   "outputs": [
    {
     "name": "stdout",
     "output_type": "stream",
     "text": [
      "Tokens: ['I', 'am', 'Arshan', ',', 'I', 'have', 'completed', 'BE', 'from', 'SPPU', ';', 'my', 'age', 'is', '22', '.', 'I', 'like', 'to', 'travel', ',', 'and', 'my', 'hobbies', 'are', 'swimming', ',', 'playing', 'cricket', ',', 'reading', 'books', 'and', 'exploring', 'new', 'cuisines', '.', 'Currently', ',', 'I', 'am', 'working', 'as', 'a', 'junior', 'software', 'developer', 'in', 'Pune', ',', 'and', 'I', 'aspire', 'to', 'start', 'my', 'own', 'tech', 'company', 'someday', '.', 'In', 'my', 'free', 'time', ',', 'I', 'enjoy', 'watching', 'documentaries', ',', 'learning', 'new', 'programming', 'languages', ',', 'and', 'volunteering', 'for', 'environmental', 'causes', '.']\n",
      "\n",
      "Vocabulary: ['a', 'age', 'am', 'and', 'are', 'arshan', 'as', 'aspire', 'be', 'books', 'causes', 'company', 'completed', 'cricket', 'cuisines', 'currently', 'developer', 'documentaries', 'enjoy', 'environmental', 'exploring', 'for', 'free', 'from', 'have', 'hobbies', 'i', 'in', 'is', 'junior', 'languages', 'learning', 'like', 'my', 'new', 'own', 'playing', 'programming', 'pune', 'reading', 'software', 'someday', 'sppu', 'start', 'swimming', 'tech', 'time', 'to', 'travel', 'volunteering', 'watching', 'working']\n",
      "\n",
      "Vocabulary Size: 52\n"
     ]
    }
   ],
   "source": [
    "import nltk\n",
    "from nltk.tokenize import sent_tokenize, word_tokenize\n",
    "import re\n",
    "\n",
    "\n",
    "text = \"\"\"\n",
    "   I   am  Arshan,  I  have completed BE from   SPPU; my   age is 22.  \n",
    "   I like  to travel, and   my  hobbies are swimming,   playing cricket, reading books   \n",
    "   and   exploring new cuisines.  \n",
    "   Currently,   I am working as a junior   software developer in   Pune,   \n",
    "   and I aspire to start my own tech company someday.    \n",
    "   In my free time,  I   enjoy watching documentaries,   learning new programming languages,  \n",
    "   \\tand volunteering for environmental   causes.   \n",
    "\"\"\"\n",
    "\n",
    "\n",
    "sentences = sent_tokenize(text)\n",
    "clean_sentences = [re.sub(r'\\s+', ' ', s.strip()) for s in sentences]\n",
    "clean_text = \" \".join(clean_sentences)\n",
    "\n",
    "tokens = word_tokenize(clean_text)\n",
    "\n",
    "vocabulary = sorted(set(token.lower() for token in tokens if token.isalpha()))\n",
    "\n",
    "print(\"Tokens:\", tokens)\n",
    "print(\"\\nVocabulary:\", vocabulary)\n",
    "print(\"\\nVocabulary Size:\", len(vocabulary))\n"
   ]
  },
  {
   "cell_type": "code",
   "execution_count": null,
   "id": "e5575e8f-0301-44ca-a3c0-89cab092b76c",
   "metadata": {},
   "outputs": [],
   "source": [
    "#4. Remove stop words. "
   ]
  },
  {
   "cell_type": "code",
   "execution_count": 10,
   "id": "740c475a-c22d-44ca-ade6-98c64ca1225f",
   "metadata": {},
   "outputs": [
    {
     "name": "stdout",
     "output_type": "stream",
     "text": [
      "['Arshan', 'completed', 'SPPU', 'age', 'like', 'travel', 'hobbies', 'swimming', 'playing', 'cricket', 'reading', 'books', 'exploring', 'new', 'cuisines', 'Currently', 'working', 'junior', 'software', 'developer', 'Pune', 'aspire', 'start', 'tech', 'company', 'someday', 'free', 'time', 'enjoy', 'watching', 'documentaries', 'learning', 'new', 'programming', 'languages', 'volunteering', 'environmental', 'causes']\n",
      "['age', 'arshan', 'aspire', 'books', 'causes', 'company', 'completed', 'cricket', 'cuisines', 'currently', 'developer', 'documentaries', 'enjoy', 'environmental', 'exploring', 'free', 'hobbies', 'junior', 'languages', 'learning', 'like', 'new', 'playing', 'programming', 'pune', 'reading', 'software', 'someday', 'sppu', 'start', 'swimming', 'tech', 'time', 'travel', 'volunteering', 'watching', 'working']\n",
      "37\n"
     ]
    },
    {
     "name": "stderr",
     "output_type": "stream",
     "text": [
      "[nltk_data] Downloading package stopwords to\n",
      "[nltk_data]     C:\\Users\\ARSHAN\\AppData\\Roaming\\nltk_data...\n",
      "[nltk_data]   Package stopwords is already up-to-date!\n"
     ]
    }
   ],
   "source": [
    "import nltk\n",
    "from nltk.tokenize import word_tokenize\n",
    "from nltk.corpus import stopwords\n",
    "import re\n",
    "\n",
    "nltk.download('stopwords')\n",
    "\n",
    "text = \"\"\"\n",
    "I am Arshan, I have completed BE from SPPU; my age is 22.  \n",
    "I like to travel, and my hobbies are swimming, playing cricket, reading books  \n",
    "and exploring new cuisines.  \n",
    "Currently, I am working as a junior software developer in Pune,   \n",
    "and I aspire to start my own tech company someday.    \n",
    "In my free time, I enjoy watching documentaries, learning new programming languages,  \n",
    "and volunteering for environmental causes.   \n",
    "\"\"\"\n",
    "\n",
    "text = re.sub(r'\\s+', ' ', text.strip())\n",
    "tokens = word_tokenize(text)\n",
    "stop_words = set(stopwords.words('english'))\n",
    "filtered_tokens = [w for w in tokens if w.lower() not in stop_words and w.isalpha()]\n",
    "vocabulary = sorted(set(w.lower() for w in filtered_tokens))\n",
    "\n",
    "print(filtered_tokens)\n",
    "print(vocabulary)\n",
    "print(len(vocabulary))\n"
   ]
  },
  {
   "cell_type": "code",
   "execution_count": null,
   "id": "ea548303-a60b-473a-8a91-496251e28038",
   "metadata": {},
   "outputs": [],
   "source": [
    "#5. Remove punctuation. "
   ]
  },
  {
   "cell_type": "code",
   "execution_count": 11,
   "id": "5f4fe015-b6ce-4876-94de-52a2596e4754",
   "metadata": {},
   "outputs": [
    {
     "name": "stdout",
     "output_type": "stream",
     "text": [
      "['Arshan', 'completed', 'SPPU', 'age', '22', 'like', 'travel', 'hobbies', 'swimming', 'playing', 'cricket', 'reading', 'books', 'exploring', 'new', 'cuisines', 'Currently', 'working', 'junior', 'software', 'developer', 'Pune', 'aspire', 'start', 'tech', 'company', 'someday', 'free', 'time', 'enjoy', 'watching', 'documentaries', 'learning', 'new', 'programming', 'languages', 'volunteering', 'environmental', 'causes']\n",
      "['age', 'arshan', 'aspire', 'books', 'causes', 'company', 'completed', 'cricket', 'cuisines', 'currently', 'developer', 'documentaries', 'enjoy', 'environmental', 'exploring', 'free', 'hobbies', 'junior', 'languages', 'learning', 'like', 'new', 'playing', 'programming', 'pune', 'reading', 'software', 'someday', 'sppu', 'start', 'swimming', 'tech', 'time', 'travel', 'volunteering', 'watching', 'working']\n",
      "37\n"
     ]
    }
   ],
   "source": [
    "import re\n",
    "from nltk.tokenize import word_tokenize\n",
    "from nltk.corpus import stopwords\n",
    "import string\n",
    "\n",
    "text = \"\"\"\n",
    "I am Arshan, I have completed BE from SPPU; my age is 22.  \n",
    "I like to travel, and my hobbies are swimming, playing cricket, reading books  \n",
    "and exploring new cuisines.  \n",
    "Currently, I am working as a junior software developer in Pune,   \n",
    "and I aspire to start my own tech company someday.    \n",
    "In my free time, I enjoy watching documentaries, learning new programming languages,  \n",
    "and volunteering for environmental causes.   \n",
    "\"\"\"\n",
    "\n",
    "text = re.sub(r'\\s+', ' ', text.strip())\n",
    "tokens = word_tokenize(text)\n",
    "stop_words = set(stopwords.words('english'))\n",
    "punctuation = set(string.punctuation)\n",
    "filtered_tokens = [w for w in tokens if w.lower() not in stop_words and w not in punctuation]\n",
    "vocabulary = sorted(set(w.lower() for w in filtered_tokens if w.isalpha()))\n",
    "\n",
    "print(filtered_tokens)\n",
    "print(vocabulary)\n",
    "print(len(vocabulary))\n"
   ]
  },
  {
   "cell_type": "code",
   "execution_count": null,
   "id": "d1463f0c-af0d-4a8b-add7-a7adb2067fe2",
   "metadata": {},
   "outputs": [],
   "source": [
    "6. Normalize the text using stemming and lemmatization. "
   ]
  },
  {
   "cell_type": "code",
   "execution_count": 2,
   "id": "0f697d35-1f90-493f-88bb-30b82aa46e3d",
   "metadata": {},
   "outputs": [
    {
     "name": "stdout",
     "output_type": "stream",
     "text": [
      "['arshan', 'complet', 'sppu', 'age', 'like', 'travel', 'hobbi', 'swim', 'play', 'cricket', 'read', 'book', 'explor', 'new', 'cuisin', 'current', 'work', 'junior', 'softwar', 'develop', 'pune', 'aspir', 'start', 'tech', 'compani', 'someday', 'free', 'time', 'enjoy', 'watch', 'documentari', 'learn', 'new', 'program', 'languag', 'volunt', 'environment', 'caus']\n",
      "['arshan', 'completed', 'sppu', 'age', 'like', 'travel', 'hobby', 'swimming', 'playing', 'cricket', 'reading', 'book', 'exploring', 'new', 'cuisine', 'currently', 'working', 'junior', 'software', 'developer', 'pune', 'aspire', 'start', 'tech', 'company', 'someday', 'free', 'time', 'enjoy', 'watching', 'documentary', 'learning', 'new', 'programming', 'language', 'volunteering', 'environmental', 'cause']\n"
     ]
    }
   ],
   "source": [
    "import re\n",
    "from nltk.tokenize import word_tokenize\n",
    "from nltk.corpus import stopwords\n",
    "from nltk.stem import PorterStemmer, WordNetLemmatizer\n",
    "import string\n",
    "\n",
    "ps = PorterStemmer()\n",
    "lemmatizer = WordNetLemmatizer()\n",
    "\n",
    "text = \"\"\"\n",
    "I am Arshan, I have completed BE from SPPU; my age is 22.  \n",
    "I like to travel, and my hobbies are swimming, playing cricket, reading books  \n",
    "and exploring new cuisines.  \n",
    "Currently, I am working as a junior software developer in Pune,   \n",
    "and I aspire to start my own tech company someday.    \n",
    "In my free time, I enjoy watching documentaries, learning new programming languages,  \n",
    "and volunteering for environmental causes.   \n",
    "\"\"\"\n",
    "\n",
    "text = re.sub(r'\\s+', ' ', text.strip())\n",
    "tokens = word_tokenize(text)\n",
    "stop_words = set(stopwords.words('english'))\n",
    "punctuation = set(string.punctuation)\n",
    "filtered_tokens = [w for w in tokens if w.lower() not in stop_words and w not in punctuation]\n",
    "\n",
    "stemmed_tokens = [ps.stem(w) for w in filtered_tokens if w.isalpha()]\n",
    "lemmatized_tokens = [lemmatizer.lemmatize(w.lower()) for w in filtered_tokens if w.isalpha()]\n",
    "\n",
    "print(stemmed_tokens)\n",
    "print(lemmatized_tokens)\n"
   ]
  },
  {
   "cell_type": "code",
   "execution_count": 1,
   "id": "7328a7e5-712c-4d90-ae91-1336e7921f25",
   "metadata": {},
   "outputs": [
    {
     "name": "stderr",
     "output_type": "stream",
     "text": [
      "[nltk_data] Downloading package wordnet to\n",
      "[nltk_data]     C:\\Users\\ARSHAN\\AppData\\Roaming\\nltk_data...\n",
      "[nltk_data] Downloading package omw-1.4 to\n",
      "[nltk_data]     C:\\Users\\ARSHAN\\AppData\\Roaming\\nltk_data...\n"
     ]
    },
    {
     "data": {
      "text/plain": [
       "True"
      ]
     },
     "execution_count": 1,
     "metadata": {},
     "output_type": "execute_result"
    }
   ],
   "source": [
    "import nltk\n",
    "nltk.download('wordnet')\n",
    "nltk.download('omw-1.4')  # for additional lemma support\n"
   ]
  },
  {
   "cell_type": "code",
   "execution_count": null,
   "id": "1a235eac-3d92-4f14-a1a7-ae6f44f682e4",
   "metadata": {},
   "outputs": [],
   "source": [
    "7. Create n grams from text. "
   ]
  },
  {
   "cell_type": "code",
   "execution_count": 3,
   "id": "c39aec1b-94ed-408f-9eec-c813ff6dd923",
   "metadata": {},
   "outputs": [
    {
     "name": "stdout",
     "output_type": "stream",
     "text": [
      "['arshan', 'complet', 'sppu', 'age', 'like', 'travel', 'hobbi', 'swim', 'play', 'cricket', 'read', 'book', 'explor', 'new', 'cuisin', 'current', 'work', 'junior', 'softwar', 'develop', 'pune', 'aspir', 'start', 'tech', 'compani', 'someday', 'free', 'time', 'enjoy', 'watch', 'documentari', 'learn', 'new', 'program', 'languag', 'volunt', 'environment', 'caus']\n",
      "['arshan', 'completed', 'sppu', 'age', 'like', 'travel', 'hobby', 'swimming', 'playing', 'cricket', 'reading', 'book', 'exploring', 'new', 'cuisine', 'currently', 'working', 'junior', 'software', 'developer', 'pune', 'aspire', 'start', 'tech', 'company', 'someday', 'free', 'time', 'enjoy', 'watching', 'documentary', 'learning', 'new', 'programming', 'language', 'volunteering', 'environmental', 'cause']\n",
      "[('arshan', 'completed'), ('completed', 'sppu'), ('sppu', 'age'), ('age', 'like'), ('like', 'travel'), ('travel', 'hobby'), ('hobby', 'swimming'), ('swimming', 'playing'), ('playing', 'cricket'), ('cricket', 'reading'), ('reading', 'book'), ('book', 'exploring'), ('exploring', 'new'), ('new', 'cuisine'), ('cuisine', 'currently'), ('currently', 'working'), ('working', 'junior'), ('junior', 'software'), ('software', 'developer'), ('developer', 'pune'), ('pune', 'aspire'), ('aspire', 'start'), ('start', 'tech'), ('tech', 'company'), ('company', 'someday'), ('someday', 'free'), ('free', 'time'), ('time', 'enjoy'), ('enjoy', 'watching'), ('watching', 'documentary'), ('documentary', 'learning'), ('learning', 'new'), ('new', 'programming'), ('programming', 'language'), ('language', 'volunteering'), ('volunteering', 'environmental'), ('environmental', 'cause')]\n",
      "[('arshan', 'completed', 'sppu'), ('completed', 'sppu', 'age'), ('sppu', 'age', 'like'), ('age', 'like', 'travel'), ('like', 'travel', 'hobby'), ('travel', 'hobby', 'swimming'), ('hobby', 'swimming', 'playing'), ('swimming', 'playing', 'cricket'), ('playing', 'cricket', 'reading'), ('cricket', 'reading', 'book'), ('reading', 'book', 'exploring'), ('book', 'exploring', 'new'), ('exploring', 'new', 'cuisine'), ('new', 'cuisine', 'currently'), ('cuisine', 'currently', 'working'), ('currently', 'working', 'junior'), ('working', 'junior', 'software'), ('junior', 'software', 'developer'), ('software', 'developer', 'pune'), ('developer', 'pune', 'aspire'), ('pune', 'aspire', 'start'), ('aspire', 'start', 'tech'), ('start', 'tech', 'company'), ('tech', 'company', 'someday'), ('company', 'someday', 'free'), ('someday', 'free', 'time'), ('free', 'time', 'enjoy'), ('time', 'enjoy', 'watching'), ('enjoy', 'watching', 'documentary'), ('watching', 'documentary', 'learning'), ('documentary', 'learning', 'new'), ('learning', 'new', 'programming'), ('new', 'programming', 'language'), ('programming', 'language', 'volunteering'), ('language', 'volunteering', 'environmental'), ('volunteering', 'environmental', 'cause')]\n"
     ]
    }
   ],
   "source": [
    "import re\n",
    "from nltk.tokenize import word_tokenize\n",
    "from nltk.corpus import stopwords\n",
    "from nltk.stem import PorterStemmer, WordNetLemmatizer\n",
    "from nltk.util import ngrams\n",
    "import string\n",
    "import nltk\n",
    "\n",
    "nltk.download('punkt', quiet=True)\n",
    "nltk.download('stopwords', quiet=True)\n",
    "nltk.download('wordnet', quiet=True)\n",
    "nltk.download('omw-1.4', quiet=True)\n",
    "\n",
    "ps = PorterStemmer()\n",
    "lemmatizer = WordNetLemmatizer()\n",
    "\n",
    "text = \"\"\"\n",
    "I am Arshan, I have completed BE from SPPU; my age is 22.  \n",
    "I like to travel, and my hobbies are swimming, playing cricket, reading books  \n",
    "and exploring new cuisines.  \n",
    "Currently, I am working as a junior software developer in Pune,   \n",
    "and I aspire to start my own tech company someday.    \n",
    "In my free time, I enjoy watching documentaries, learning new programming languages,  \n",
    "and volunteering for environmental causes.   \n",
    "\"\"\"\n",
    "\n",
    "text = re.sub(r'\\s+', ' ', text.strip())\n",
    "tokens = word_tokenize(text)\n",
    "stop_words = set(stopwords.words('english'))\n",
    "punctuation = set(string.punctuation)\n",
    "filtered_tokens = [w for w in tokens if w.lower() not in stop_words and w not in punctuation]\n",
    "stemmed_tokens = [ps.stem(w) for w in filtered_tokens if w.isalpha()]\n",
    "lemmatized_tokens = [lemmatizer.lemmatize(w.lower()) for w in filtered_tokens if w.isalpha()]\n",
    "bigrams = list(ngrams(lemmatized_tokens, 2))\n",
    "trigrams = list(ngrams(lemmatized_tokens, 3))\n",
    "\n",
    "print(stemmed_tokens)\n",
    "print(lemmatized_tokens)\n",
    "print(bigrams)\n",
    "print(trigrams)\n",
    "\n"
   ]
  },
  {
   "cell_type": "code",
   "execution_count": null,
   "id": "8968cd2d-b877-4a4d-9b7b-132f5524dd2e",
   "metadata": {},
   "outputs": [],
   "source": [
    "B"
   ]
  },
  {
   "cell_type": "code",
   "execution_count": null,
   "id": "adcf668e-edd8-41b3-9336-32c7c27e175b",
   "metadata": {},
   "outputs": [],
   "source": [
    "1.Count the number of unique tokens in the text "
   ]
  },
  {
   "cell_type": "code",
   "execution_count": 2,
   "id": "35469ec4-c7cf-46ec-90d6-8d70aa604ee5",
   "metadata": {},
   "outputs": [
    {
     "name": "stdout",
     "output_type": "stream",
     "text": [
      "Unique token count: 37\n",
      "Unique tokens: {'company', 'sppu', 'free', 'pune', 'language', 'playing', 'book', 'swimming', 'software', 'travel', 'cricket', 'exploring', 'new', 'start', 'aspire', 'completed', 'learning', 'tech', 'volunteering', 'developer', 'arshan', 'someday', 'programming', 'like', 'working', 'time', 'currently', 'documentary', 'hobby', 'cause', 'watching', 'junior', 'age', 'enjoy', 'reading', 'cuisine', 'environmental'}\n"
     ]
    }
   ],
   "source": [
    "import re\n",
    "from nltk.tokenize import word_tokenize\n",
    "from nltk.corpus import stopwords\n",
    "from nltk.stem import PorterStemmer, WordNetLemmatizer\n",
    "import string\n",
    "import nltk\n",
    "\n",
    "nltk.download('punkt', quiet=True)\n",
    "nltk.download('stopwords', quiet=True)\n",
    "nltk.download('wordnet', quiet=True)\n",
    "nltk.download('omw-1.4', quiet=True)\n",
    "\n",
    "text = \"\"\"\n",
    "I am Arshan, I have completed BE from SPPU; my age is 22.  \n",
    "I like to travel, and my hobbies are swimming, playing cricket, reading books  \n",
    "and exploring new cuisines.  \n",
    "Currently, I am working as a junior software developer in Pune,   \n",
    "and I aspire to start my own tech company someday.    \n",
    "In my free time, I enjoy watching documentaries, learning new programming languages,  \n",
    "and volunteering for environmental causes.   \n",
    "\"\"\"\n",
    "\n",
    "text = re.sub(r'\\s+', ' ', text.strip())\n",
    "tokens = word_tokenize(text)\n",
    "stop_words = set(stopwords.words('english'))\n",
    "punctuation = set(string.punctuation)\n",
    "filtered_tokens = [w for w in tokens if w.lower() not in stop_words and w not in punctuation]\n",
    "\n",
    "lemmatizer = WordNetLemmatizer()\n",
    "lemmatized_tokens = [lemmatizer.lemmatize(w.lower()) for w in filtered_tokens if w.isalpha()]\n",
    "\n",
    "unique_tokens = set(lemmatized_tokens)\n",
    "print(\"Unique token count:\", len(unique_tokens))\n",
    "print(\"Unique tokens:\", unique_tokens)\n"
   ]
  },
  {
   "cell_type": "code",
   "execution_count": null,
   "id": "b355b46d-3ab0-4b3d-ba7b-20770f5b26b0",
   "metadata": {},
   "outputs": [],
   "source": [
    "2.Count the number of punctuation characters "
   ]
  },
  {
   "cell_type": "code",
   "execution_count": 3,
   "id": "4eddc82e-77ad-4935-8059-ddfc8a2f2325",
   "metadata": {},
   "outputs": [
    {
     "name": "stdout",
     "output_type": "stream",
     "text": [
      "Number of punctuation characters: 14\n"
     ]
    }
   ],
   "source": [
    "punctuation_count = sum(1 for ch in text if ch in string.punctuation)\n",
    "print(\"Number of punctuation characters:\", punctuation_count)\n"
   ]
  },
  {
   "cell_type": "code",
   "execution_count": null,
   "id": "3a49f05f-0133-43d1-9596-af68446bf788",
   "metadata": {},
   "outputs": [],
   "source": [
    "3.Plot the distribution of each POS Tag using a barplot "
   ]
  },
  {
   "cell_type": "code",
   "execution_count": 4,
   "id": "b7db845a-0c06-4411-bc9f-98bd94f5f1f3",
   "metadata": {},
   "outputs": [
    {
     "data": {
      "image/png": "[encoded data removed]",
      "text/plain": [
       "<Figure size 1000x600 with 1 Axes>"
      ]
     },
     "metadata": {},
     "output_type": "display_data"
    }
   ],
   "source": [
    "import re\n",
    "from nltk.tokenize import word_tokenize\n",
    "from nltk import pos_tag\n",
    "import matplotlib.pyplot as plt\n",
    "from collections import Counter\n",
    "import nltk\n",
    "\n",
    "nltk.download('punkt', quiet=True)\n",
    "nltk.download('averaged_perceptron_tagger', quiet=True)\n",
    "\n",
    "text = \"\"\"\n",
    "I am Arshan, I have completed BE from SPPU; my age is 22.  \n",
    "I like to travel, and my hobbies are swimming, playing cricket, reading books  \n",
    "and exploring new cuisines.  \n",
    "Currently, I am working as a junior software developer in Pune,   \n",
    "and I aspire to start my own tech company someday.    \n",
    "In my free time, I enjoy watching documentaries, learning new programming languages,  \n",
    "and volunteering for environmental causes.   \n",
    "\"\"\"\n",
    "\n",
    "# Clean and tokenize\n",
    "text = re.sub(r'\\s+', ' ', text.strip())\n",
    "tokens = word_tokenize(text)\n",
    "\n",
    "# POS tagging\n",
    "pos_tags = pos_tag(tokens)\n",
    "\n",
    "# Count tag frequencies\n",
    "pos_counts = Counter(tag for word, tag in pos_tags)\n",
    "\n",
    "# Plot\n",
    "plt.figure(figsize=(10, 6))\n",
    "plt.bar(pos_counts.keys(), pos_counts.values())\n",
    "plt.xlabel(\"POS Tags\")\n",
    "plt.ylabel(\"Frequency\")\n",
    "plt.title(\"Distribution of POS Tags\")\n",
    "plt.xticks(rotation=45)\n",
    "plt.show()\n"
   ]
  },
  {
   "cell_type": "code",
   "execution_count": null,
   "id": "af215bfb-4263-4b81-ab90-0cb460a9656d",
   "metadata": {},
   "outputs": [],
   "source": [
    "4.Determine the number of unique lemma available in the text "
   ]
  },
  {
   "cell_type": "code",
   "execution_count": 5,
   "id": "eff2bd68-c409-496c-accb-59f1bff4d910",
   "metadata": {},
   "outputs": [
    {
     "name": "stdout",
     "output_type": "stream",
     "text": [
      "Number of unique lemmas: 37\n",
      "Unique lemmas: {'company', 'sppu', 'free', 'pune', 'language', 'playing', 'book', 'swimming', 'software', 'travel', 'cricket', 'exploring', 'new', 'start', 'aspire', 'completed', 'learning', 'tech', 'volunteering', 'developer', 'arshan', 'someday', 'programming', 'like', 'working', 'time', 'currently', 'documentary', 'hobby', 'cause', 'watching', 'junior', 'age', 'enjoy', 'reading', 'cuisine', 'environmental'}\n"
     ]
    }
   ],
   "source": [
    "import re\n",
    "from nltk.tokenize import word_tokenize\n",
    "from nltk.corpus import stopwords\n",
    "from nltk.stem import WordNetLemmatizer\n",
    "import string\n",
    "import nltk\n",
    "\n",
    "nltk.download('punkt', quiet=True)\n",
    "nltk.download('stopwords', quiet=True)\n",
    "nltk.download('wordnet', quiet=True)\n",
    "nltk.download('omw-1.4', quiet=True)\n",
    "\n",
    "text = \"\"\"\n",
    "I am Arshan, I have completed BE from SPPU; my age is 22.  \n",
    "I like to travel, and my hobbies are swimming, playing cricket, reading books  \n",
    "and exploring new cuisines.  \n",
    "Currently, I am working as a junior software developer in Pune,   \n",
    "and I aspire to start my own tech company someday.    \n",
    "In my free time, I enjoy watching documentaries, learning new programming languages,  \n",
    "and volunteering for environmental causes.   \n",
    "\"\"\"\n",
    "\n",
    "# Preprocessing\n",
    "text = re.sub(r'\\s+', ' ', text.strip())\n",
    "tokens = word_tokenize(text)\n",
    "stop_words = set(stopwords.words('english'))\n",
    "punctuation = set(string.punctuation)\n",
    "\n",
    "filtered_tokens = [w for w in tokens if w.lower() not in stop_words and w not in punctuation]\n",
    "\n",
    "lemmatizer = WordNetLemmatizer()\n",
    "lemmatized_tokens = [lemmatizer.lemmatize(w.lower()) for w in filtered_tokens if w.isalpha()]\n",
    "\n",
    "# Unique lemma count\n",
    "unique_lemmas = set(lemmatized_tokens)\n",
    "print(\"Number of unique lemmas:\", len(unique_lemmas))\n",
    "print(\"Unique lemmas:\", unique_lemmas)\n"
   ]
  },
  {
   "cell_type": "code",
   "execution_count": null,
   "id": "1752a0d9-4132-40da-971a-dc6ef6dae8cb",
   "metadata": {},
   "outputs": [],
   "source": [
    "5.Plot the distribution of stopwords used in the text using barplot "
   ]
  },
  {
   "cell_type": "code",
   "execution_count": 6,
   "id": "7a387d4f-c701-4675-8639-2d7183298fd8",
   "metadata": {},
   "outputs": [
    {
     "data": {
      "image/png": "[encoded data removed]",
      "text/plain": [
       "<Figure size 1000x600 with 1 Axes>"
      ]
     },
     "metadata": {},
     "output_type": "display_data"
    }
   ],
   "source": [
    "import re\n",
    "from nltk.tokenize import word_tokenize\n",
    "from nltk.corpus import stopwords\n",
    "import matplotlib.pyplot as plt\n",
    "from collections import Counter\n",
    "import nltk\n",
    "\n",
    "nltk.download('punkt', quiet=True)\n",
    "nltk.download('stopwords', quiet=True)\n",
    "\n",
    "text = \"\"\"\n",
    "I am Arshan, I have completed BE from SPPU; my age is 22.  \n",
    "I like to travel, and my hobbies are swimming, playing cricket, reading books  \n",
    "and exploring new cuisines.  \n",
    "Currently, I am working as a junior software developer in Pune,   \n",
    "and I aspire to start my own tech company someday.    \n",
    "In my free time, I enjoy watching documentaries, learning new programming languages,  \n",
    "and volunteering for environmental causes.   \n",
    "\"\"\"\n",
    "\n",
    "# Clean and tokenize\n",
    "text = re.sub(r'\\s+', ' ', text.strip())\n",
    "tokens = word_tokenize(text)\n",
    "\n",
    "# Stopwords set\n",
    "stop_words = set(stopwords.words('english'))\n",
    "\n",
    "# Extract stopwords from text\n",
    "stopword_tokens = [w.lower() for w in tokens if w.lower() in stop_words]\n",
    "\n",
    "# Count frequencies\n",
    "stopword_counts = Counter(stopword_tokens)\n",
    "\n",
    "# Plot\n",
    "plt.figure(figsize=(10, 6))\n",
    "plt.bar(stopword_counts.keys(), stopword_counts.values())\n",
    "plt.xlabel(\"Stopwords\")\n",
    "plt.ylabel(\"Frequency\")\n",
    "plt.title(\"Distribution of Stopwords in Text\")\n",
    "plt.xticks(rotation=45)\n",
    "plt.show()\n"
   ]
  },
  {
   "cell_type": "code",
   "execution_count": null,
   "id": "d7cc5bbf-c441-4a37-ab9f-734e7fb8e212",
   "metadata": {},
   "outputs": [],
   "source": []
  },
  {
   "cell_type": "code",
   "execution_count": null,
   "id": "f7d92a0f-6e6a-413d-a506-76fb76d0e70c",
   "metadata": {},
   "outputs": [],
   "source": []
  },
  {
   "cell_type": "code",
   "execution_count": null,
   "id": "de8cdfbc-a5b2-4604-a709-8958e7153e58",
   "metadata": {},
   "outputs": [],
   "source": []
  },
  {
   "cell_type": "code",
   "execution_count": null,
   "id": "c01af9d6-4e0f-4125-8c7c-bab7d102a53e",
   "metadata": {},
   "outputs": [],
   "source": []
  },
  {
   "cell_type": "code",
   "execution_count": null,
   "id": "a5b4da51-884c-4883-b2ce-b0946c044231",
   "metadata": {},
   "outputs": [],
   "source": []
  },
  {
   "cell_type": "code",
   "execution_count": null,
   "id": "53be1ef5-826e-46cf-bf34-54bc78b217bc",
   "metadata": {},
   "outputs": [],
   "source": []
  },
  {
   "cell_type": "code",
   "execution_count": null,
   "id": "71d200cb-e2e5-48b4-ab3f-3ff64d5f76aa",
   "metadata": {},
   "outputs": [],
   "source": []
  },
  {
   "cell_type": "code",
   "execution_count": null,
   "id": "c12b69f6-4b44-41f8-a331-90ee7cceb4de",
   "metadata": {},
   "outputs": [],
   "source": []
  },
  {
   "cell_type": "code",
   "execution_count": null,
   "id": "30cab2cc-1862-4d4f-9b28-4b07f4d3acb3",
   "metadata": {},
   "outputs": [],
   "source": []
  },
  {
   "cell_type": "code",
   "execution_count": null,
   "id": "77f1d7ab-9b1b-4d7a-b5f3-941aaf164d9b",
   "metadata": {},
   "outputs": [],
   "source": []
  },
  {
   "cell_type": "code",
   "execution_count": null,
   "id": "51e0edb1-d895-4901-9279-74423fc85856",
   "metadata": {},
   "outputs": [],
   "source": []
  },
  {
   "cell_type": "code",
   "execution_count": null,
   "id": "f4506ec9-7036-488b-8c1a-7f0e8b0e7216",
   "metadata": {},
   "outputs": [],
   "source": []
  },
  {
   "cell_type": "code",
   "execution_count": null,
   "id": "c375f65d-826b-4a08-a035-c0b4c49816fb",
   "metadata": {},
   "outputs": [],
   "source": []
  },
  {
   "cell_type": "code",
   "execution_count": null,
   "id": "48ceff0f-9a1f-4917-badc-3bab04a0ead7",
   "metadata": {},
   "outputs": [],
   "source": []
  },
  {
   "cell_type": "code",
   "execution_count": null,
   "id": "53a8e163-1ece-45b2-b872-1649185f48fb",
   "metadata": {},
   "outputs": [],
   "source": []
  },
  {
   "cell_type": "code",
   "execution_count": null,
   "id": "bccb0520-20b1-4401-af51-e0252e092db5",
   "metadata": {},
   "outputs": [],
   "source": []
  },
  {
   "cell_type": "code",
   "execution_count": null,
   "id": "4ea8519a-844f-4e30-97d4-7f710d9dff4b",
   "metadata": {},
   "outputs": [],
   "source": []
  }
 ],
 "metadata": {
  "kernelspec": {
   "display_name": "Python 3 (ipykernel)",
   "language": "python",
   "name": "python3"
  },
  "language_info": {
   "codemirror_mode": {
    "name": "ipython",
    "version": 3
   },
   "file_extension": ".py",
   "mimetype": "text/x-python",
   "name": "python",
   "nbconvert_exporter": "python",
   "pygments_lexer": "ipython3",
   "version": "3.11.7"
  }
 },
 "nbformat": 4,
 "nbformat_minor": 5
}
